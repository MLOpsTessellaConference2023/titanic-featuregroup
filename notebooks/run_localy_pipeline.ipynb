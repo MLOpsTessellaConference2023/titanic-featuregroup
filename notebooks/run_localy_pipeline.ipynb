{
 "cells": [
  {
   "cell_type": "markdown",
   "id": "bf3c106d-b6ed-43e7-8e08-cdbfbb00e511",
   "metadata": {},
   "source": [
    "# Execute pipeline localy\n"
   ]
  },
  {
   "cell_type": "code",
   "execution_count": 1,
   "id": "ae52b859-12d0-42ef-86ef-d2a875ff997d",
   "metadata": {},
   "outputs": [],
   "source": [
    "data_path = '../bin'"
   ]
  },
  {
   "cell_type": "code",
   "execution_count": 3,
   "id": "fe3d2af3-55e5-4f39-b556-7a6784aa84c9",
   "metadata": {},
   "outputs": [
    {
     "name": "stdout",
     "output_type": "stream",
     "text": [
      "Received arguments:\n",
      "Namespace(step_name='Data Wrangling', data_path='../bin', input_file='titanic.csv', output_file='wrangled_data.csv').\n",
      "\n",
      "Starting step Data Wrangling\n",
      "Finished Wrangling Data Wrangling.\n",
      "\n",
      "\n",
      "CPU times: total: 0 ns\n",
      "Wall time: 14.6 ms\n"
     ]
    }
   ],
   "source": [
    "params=f\"\"\"--data-path={data_path} --step-name=\"Data Wrangling\" --input-file=\"titanic.csv\" --output-file=\"wrangled_data.csv\" \"\"\"\n",
    "\n",
    "%time %run ../src/data_wrangling.py $params"
   ]
  },
  {
   "cell_type": "code",
   "execution_count": 4,
   "id": "7ad47ab2-aa7f-4783-8d20-0224210d76ac",
   "metadata": {},
   "outputs": [
    {
     "name": "stdout",
     "output_type": "stream",
     "text": [
      "Received arguments:\n",
      "Namespace(step_name='Features Processing', data_path='../bin', input_file='wrangled_data.csv', output_file='processed_features.csv').\n",
      "\n",
      "Starting step Features Processing\n",
      "Finished Wrangling Features Processing.\n",
      "\n",
      "\n",
      "CPU times: total: 0 ns\n",
      "Wall time: 25.8 ms\n"
     ]
    }
   ],
   "source": [
    "params=f\"\"\"--data-path={data_path} --step-name=\"Features Processing\" --output-file=\"processed_features.csv\" --input-file=\"wrangled_data.csv\" \"\"\"\n",
    "\n",
    "%time %run ../src/feature_processing.py $params"
   ]
  },
  {
   "cell_type": "code",
   "execution_count": null,
   "id": "d1d84dd0-3647-4fdd-920b-3c325ad1301e",
   "metadata": {},
   "outputs": [],
   "source": []
  },
  {
   "cell_type": "code",
   "execution_count": null,
   "id": "5ca8d194-cd26-4760-8f5c-ae46269da920",
   "metadata": {},
   "outputs": [],
   "source": []
  },
  {
   "cell_type": "code",
   "execution_count": null,
   "id": "9b9d6c09-3dbc-4ed9-92e4-05695ff0063f",
   "metadata": {},
   "outputs": [],
   "source": []
  },
  {
   "cell_type": "code",
   "execution_count": null,
   "id": "99c7b1d7-86d6-4116-9641-30dcd8bb721d",
   "metadata": {},
   "outputs": [],
   "source": []
  }
 ],
 "metadata": {
  "kernelspec": {
   "display_name": "Python 3 (ipykernel)",
   "language": "python",
   "name": "python3"
  },
  "language_info": {
   "codemirror_mode": {
    "name": "ipython",
    "version": 3
   },
   "file_extension": ".py",
   "mimetype": "text/x-python",
   "name": "python",
   "nbconvert_exporter": "python",
   "pygments_lexer": "ipython3",
   "version": "3.10.8"
  }
 },
 "nbformat": 4,
 "nbformat_minor": 5
}
